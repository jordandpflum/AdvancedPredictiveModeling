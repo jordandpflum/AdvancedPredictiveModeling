{
 "cells": [
  {
   "cell_type": "markdown",
   "metadata": {},
   "source": [
    "\n",
    "# <p style=\"text-align: center;\">MIS 382N: ADVANCED PREDICTIVE MODELING - MSBA</p>\n",
    "# <p style=\"text-align: center;\">Assignment 2</p>\n",
    "## <p style=\"text-align: center;\">Total points: 80 </p>\n",
    "## <p style=\"text-align: center;\">Due: September 30, submitted via Canvas by 11:59 pm</p>\n",
    "\n",
    "Your homework should be written in a **Jupyter notebook**. You may work in groups of two if you wish. Your partner needs to be from the same section. Only one student per team needs to submit the assignment on Canvas.  But be sure to include name and UTEID for both students.  Homework groups will be created and managed through Canvas, so please do not arbitrarily change your homework group. If you do change, let the TA know. \n",
    "\n",
    "Also, please make sure your code runs and the graphics (and anything else) are displayed in your notebook before submitting. (%matplotlib inline)\n",
    "\n",
    "### Name(s)\n",
    "1. Jordan Pflum\n",
    "2. Christian Lee"
   ]
  },
  {
   "cell_type": "markdown",
   "metadata": {
    "colab_type": "text",
    "id": "W5ZpdgFLzMCK"
   },
   "source": [
    "# Question 1 (Understanding ElasticNet, 30 points)\n",
    "Although lots of past studies have been conducted on factors affecting life expectancy using demographic variables, income composition and mortality rates, it was found that the effect of immunization and human development index was not taken into account. Hence, this motivates us to resolve this factor by formulating a regression model based on mixed effects model and multiple linear regression while considering data from 2014 for all countries. Here, important immunization like Hepatitis B, Polio and Diphtheria will also be considered. \n",
    "\n",
    "This dataset was taken from https://www.kaggle.com/kumarajarshi/life-expectancy-who.\n",
    "\n",
    "**Please use Python 3.6+ for this assignment.**"
   ]
  },
  {
   "cell_type": "markdown",
   "metadata": {
    "colab_type": "text",
    "id": "As8wi1l8zY1f"
   },
   "source": [
    "First, we import packages and clean up the obtained dataset. We consider the `Life Expectancy` variable as the dependant variable whereas others are assumed to be independent variables."
   ]
  },
  {
   "cell_type": "code",
   "execution_count": 218,
   "metadata": {
    "colab": {
     "base_uri": "https://localhost:8080/",
     "height": 51
    },
    "colab_type": "code",
    "id": "FOU1ODXmfNlG",
    "outputId": "3e0dacba-1114-4244-be8f-3183dca50c2c"
   },
   "outputs": [],
   "source": [
    "import pandas as pd\n",
    "import numpy as np\n",
    "import matplotlib.pyplot as plt\n",
    "from tqdm import tqdm\n",
    "import seaborn as sns\n",
    "from sklearn.preprocessing import LabelEncoder\n",
    "from sklearn.model_selection import train_test_split\n",
    "from sklearn.linear_model import LinearRegression\n",
    "import warnings\n",
    "warnings.filterwarnings('ignore')"
   ]
  },
  {
   "cell_type": "code",
   "execution_count": 219,
   "metadata": {
    "colab": {
     "base_uri": "https://localhost:8080/",
     "height": 51
    },
    "colab_type": "code",
    "id": "ctY6Ogo8fX8-",
    "outputId": "a56bdbdb-3a5e-464c-d9b2-0611b4682b6d"
   },
   "outputs": [
    {
     "name": "stdout",
     "output_type": "stream",
     "text": [
      "(2938, 21)\n",
      "(131, 21)\n"
     ]
    }
   ],
   "source": [
    "df = pd.read_csv(\"life.csv\", index_col=0)\n",
    "print(df.shape)\n",
    "df = df.loc[df['Year']==2014, :]\n",
    "df = df.drop('Year', axis=1)\n",
    "df = pd.get_dummies(df, columns=['Status'])\n",
    "df = df.dropna()\n",
    "print(df.shape)"
   ]
  },
  {
   "cell_type": "code",
   "execution_count": 220,
   "metadata": {
    "colab": {
     "base_uri": "https://localhost:8080/",
     "height": 306
    },
    "colab_type": "code",
    "id": "MqH3uOrbf-WO",
    "outputId": "83be1413-c739-460f-e109-b45d039a9844"
   },
   "outputs": [
    {
     "data": {
      "text/html": [
       "<div>\n",
       "<style scoped>\n",
       "    .dataframe tbody tr th:only-of-type {\n",
       "        vertical-align: middle;\n",
       "    }\n",
       "\n",
       "    .dataframe tbody tr th {\n",
       "        vertical-align: top;\n",
       "    }\n",
       "\n",
       "    .dataframe thead th {\n",
       "        text-align: right;\n",
       "    }\n",
       "</style>\n",
       "<table border=\"1\" class=\"dataframe\">\n",
       "  <thead>\n",
       "    <tr style=\"text-align: right;\">\n",
       "      <th></th>\n",
       "      <th>Life expectancy</th>\n",
       "      <th>Adult Mortality</th>\n",
       "      <th>infant deaths</th>\n",
       "      <th>Alcohol</th>\n",
       "      <th>percentage expenditure</th>\n",
       "      <th>Hepatitis B</th>\n",
       "      <th>Measles</th>\n",
       "      <th>BMI</th>\n",
       "      <th>under-five deaths</th>\n",
       "      <th>Polio</th>\n",
       "      <th>...</th>\n",
       "      <th>Diphtheria</th>\n",
       "      <th>HIV/AIDS</th>\n",
       "      <th>GDP</th>\n",
       "      <th>Population</th>\n",
       "      <th>thinness  1-19 years</th>\n",
       "      <th>thinness 5-9 years</th>\n",
       "      <th>Income composition of resources</th>\n",
       "      <th>Schooling</th>\n",
       "      <th>Status_Developed</th>\n",
       "      <th>Status_Developing</th>\n",
       "    </tr>\n",
       "    <tr>\n",
       "      <th>Country</th>\n",
       "      <th></th>\n",
       "      <th></th>\n",
       "      <th></th>\n",
       "      <th></th>\n",
       "      <th></th>\n",
       "      <th></th>\n",
       "      <th></th>\n",
       "      <th></th>\n",
       "      <th></th>\n",
       "      <th></th>\n",
       "      <th></th>\n",
       "      <th></th>\n",
       "      <th></th>\n",
       "      <th></th>\n",
       "      <th></th>\n",
       "      <th></th>\n",
       "      <th></th>\n",
       "      <th></th>\n",
       "      <th></th>\n",
       "      <th></th>\n",
       "      <th></th>\n",
       "    </tr>\n",
       "  </thead>\n",
       "  <tbody>\n",
       "    <tr>\n",
       "      <th>Afghanistan</th>\n",
       "      <td>59.9</td>\n",
       "      <td>271.0</td>\n",
       "      <td>64</td>\n",
       "      <td>0.01</td>\n",
       "      <td>73.523582</td>\n",
       "      <td>62.0</td>\n",
       "      <td>492</td>\n",
       "      <td>18.6</td>\n",
       "      <td>86</td>\n",
       "      <td>58.0</td>\n",
       "      <td>...</td>\n",
       "      <td>62.0</td>\n",
       "      <td>0.1</td>\n",
       "      <td>612.696514</td>\n",
       "      <td>327582.0</td>\n",
       "      <td>17.5</td>\n",
       "      <td>17.5</td>\n",
       "      <td>0.476</td>\n",
       "      <td>10.0</td>\n",
       "      <td>0</td>\n",
       "      <td>1</td>\n",
       "    </tr>\n",
       "    <tr>\n",
       "      <th>Albania</th>\n",
       "      <td>77.5</td>\n",
       "      <td>8.0</td>\n",
       "      <td>0</td>\n",
       "      <td>4.51</td>\n",
       "      <td>428.749067</td>\n",
       "      <td>98.0</td>\n",
       "      <td>0</td>\n",
       "      <td>57.2</td>\n",
       "      <td>1</td>\n",
       "      <td>98.0</td>\n",
       "      <td>...</td>\n",
       "      <td>98.0</td>\n",
       "      <td>0.1</td>\n",
       "      <td>4575.763787</td>\n",
       "      <td>288914.0</td>\n",
       "      <td>1.2</td>\n",
       "      <td>1.3</td>\n",
       "      <td>0.761</td>\n",
       "      <td>14.2</td>\n",
       "      <td>0</td>\n",
       "      <td>1</td>\n",
       "    </tr>\n",
       "    <tr>\n",
       "      <th>Algeria</th>\n",
       "      <td>75.4</td>\n",
       "      <td>11.0</td>\n",
       "      <td>21</td>\n",
       "      <td>0.01</td>\n",
       "      <td>54.237318</td>\n",
       "      <td>95.0</td>\n",
       "      <td>0</td>\n",
       "      <td>58.4</td>\n",
       "      <td>24</td>\n",
       "      <td>95.0</td>\n",
       "      <td>...</td>\n",
       "      <td>95.0</td>\n",
       "      <td>0.1</td>\n",
       "      <td>547.851700</td>\n",
       "      <td>39113313.0</td>\n",
       "      <td>6.0</td>\n",
       "      <td>5.8</td>\n",
       "      <td>0.741</td>\n",
       "      <td>14.4</td>\n",
       "      <td>0</td>\n",
       "      <td>1</td>\n",
       "    </tr>\n",
       "    <tr>\n",
       "      <th>Angola</th>\n",
       "      <td>51.7</td>\n",
       "      <td>348.0</td>\n",
       "      <td>67</td>\n",
       "      <td>8.33</td>\n",
       "      <td>23.965612</td>\n",
       "      <td>64.0</td>\n",
       "      <td>11699</td>\n",
       "      <td>22.7</td>\n",
       "      <td>101</td>\n",
       "      <td>68.0</td>\n",
       "      <td>...</td>\n",
       "      <td>64.0</td>\n",
       "      <td>2.0</td>\n",
       "      <td>479.312240</td>\n",
       "      <td>2692466.0</td>\n",
       "      <td>8.5</td>\n",
       "      <td>8.3</td>\n",
       "      <td>0.527</td>\n",
       "      <td>11.4</td>\n",
       "      <td>0</td>\n",
       "      <td>1</td>\n",
       "    </tr>\n",
       "    <tr>\n",
       "      <th>Argentina</th>\n",
       "      <td>76.2</td>\n",
       "      <td>118.0</td>\n",
       "      <td>8</td>\n",
       "      <td>7.93</td>\n",
       "      <td>847.371746</td>\n",
       "      <td>94.0</td>\n",
       "      <td>1</td>\n",
       "      <td>62.2</td>\n",
       "      <td>9</td>\n",
       "      <td>92.0</td>\n",
       "      <td>...</td>\n",
       "      <td>94.0</td>\n",
       "      <td>0.1</td>\n",
       "      <td>12245.256450</td>\n",
       "      <td>42981515.0</td>\n",
       "      <td>1.0</td>\n",
       "      <td>0.9</td>\n",
       "      <td>0.825</td>\n",
       "      <td>17.3</td>\n",
       "      <td>0</td>\n",
       "      <td>1</td>\n",
       "    </tr>\n",
       "  </tbody>\n",
       "</table>\n",
       "<p>5 rows × 21 columns</p>\n",
       "</div>"
      ],
      "text/plain": [
       "             Life expectancy   Adult Mortality  infant deaths  Alcohol  \\\n",
       "Country                                                                  \n",
       "Afghanistan              59.9            271.0             64     0.01   \n",
       "Albania                  77.5              8.0              0     4.51   \n",
       "Algeria                  75.4             11.0             21     0.01   \n",
       "Angola                   51.7            348.0             67     8.33   \n",
       "Argentina                76.2            118.0              8     7.93   \n",
       "\n",
       "             percentage expenditure  Hepatitis B  Measles    BMI   \\\n",
       "Country                                                             \n",
       "Afghanistan               73.523582         62.0       492   18.6   \n",
       "Albania                  428.749067         98.0         0   57.2   \n",
       "Algeria                   54.237318         95.0         0   58.4   \n",
       "Angola                    23.965612         64.0     11699   22.7   \n",
       "Argentina                847.371746         94.0         1   62.2   \n",
       "\n",
       "             under-five deaths   Polio  ...  Diphtheria    HIV/AIDS  \\\n",
       "Country                                 ...                           \n",
       "Afghanistan                  86   58.0  ...         62.0        0.1   \n",
       "Albania                       1   98.0  ...         98.0        0.1   \n",
       "Algeria                      24   95.0  ...         95.0        0.1   \n",
       "Angola                      101   68.0  ...         64.0        2.0   \n",
       "Argentina                     9   92.0  ...         94.0        0.1   \n",
       "\n",
       "                      GDP  Population   thinness  1-19 years  \\\n",
       "Country                                                        \n",
       "Afghanistan    612.696514    327582.0                   17.5   \n",
       "Albania       4575.763787    288914.0                    1.2   \n",
       "Algeria        547.851700  39113313.0                    6.0   \n",
       "Angola         479.312240   2692466.0                    8.5   \n",
       "Argentina    12245.256450  42981515.0                    1.0   \n",
       "\n",
       "              thinness 5-9 years  Income composition of resources  Schooling  \\\n",
       "Country                                                                        \n",
       "Afghanistan                 17.5                            0.476       10.0   \n",
       "Albania                      1.3                            0.761       14.2   \n",
       "Algeria                      5.8                            0.741       14.4   \n",
       "Angola                       8.3                            0.527       11.4   \n",
       "Argentina                    0.9                            0.825       17.3   \n",
       "\n",
       "             Status_Developed  Status_Developing  \n",
       "Country                                           \n",
       "Afghanistan                 0                  1  \n",
       "Albania                     0                  1  \n",
       "Algeria                     0                  1  \n",
       "Angola                      0                  1  \n",
       "Argentina                   0                  1  \n",
       "\n",
       "[5 rows x 21 columns]"
      ]
     },
     "execution_count": 220,
     "metadata": {},
     "output_type": "execute_result"
    }
   ],
   "source": [
    "df.head()"
   ]
  },
  {
   "cell_type": "code",
   "execution_count": 221,
   "metadata": {},
   "outputs": [],
   "source": [
    "# Creating training and testing dataset\n",
    "y = df.iloc[:, 0]\n",
    "X = df.iloc[:, 1:]\n",
    "\n",
    "X_train, X_test, y_train, y_test = train_test_split(X, y, test_size=0.20, random_state = 42)"
   ]
  },
  {
   "cell_type": "markdown",
   "metadata": {
    "colab_type": "text",
    "id": "w8ngMwYK0uZ4"
   },
   "source": [
    "## Question 1.1 (5 points) \n",
    "Run Linear regression on the train dataset and print the $R^2$ values measured on (a) the training dataset and (b) the test dataset."
   ]
  },
  {
   "cell_type": "markdown",
   "metadata": {
    "colab_type": "text",
    "id": "uNI4UUH7-x00"
   },
   "source": [
    "## Answer 1.1"
   ]
  },
  {
   "cell_type": "markdown",
   "metadata": {},
   "source": [
    "### Training"
   ]
  },
  {
   "cell_type": "code",
   "execution_count": 222,
   "metadata": {},
   "outputs": [
    {
     "name": "stdout",
     "output_type": "stream",
     "text": [
      "The R2 score for the training data is 0.8869822224758938\n"
     ]
    }
   ],
   "source": [
    "reg = LinearRegression().fit(X_train, y_train)\n",
    "print(\"The R2 score for the training data is {}\".format(reg.score(X_train, y_train)))"
   ]
  },
  {
   "cell_type": "markdown",
   "metadata": {},
   "source": [
    "### Testing"
   ]
  },
  {
   "cell_type": "code",
   "execution_count": 223,
   "metadata": {},
   "outputs": [
    {
     "name": "stdout",
     "output_type": "stream",
     "text": [
      "The R2 score for the testing data is 0.8355055233630421\n"
     ]
    }
   ],
   "source": [
    "print(\"The R2 score for the testing data is {}\".format(reg.score(X_test, y_test)))\n"
   ]
  },
  {
   "cell_type": "markdown",
   "metadata": {
    "colab_type": "text",
    "id": "Ng9V_xUX2AZt"
   },
   "source": [
    "## Question 1.2 (8 points) \n",
    "Run linear regression using Lasso and determine the value of $\\alpha$ that results in best test set performance. Consider `alphas=10**np.linspace(1,-2,100)*0.5`. Display the best value of $\\alpha$ as well as the corresponsing $R^2$ score on test set. Use the following parameters in Lasso model. Finally, store the best model separately. Also, use the co-efficients obtained and select the [columns with non-zero weights](https://stackoverflow.com/questions/62323713/selecting-columns-of-dataframe-where-lasso-coefficient-is-nonzero) and use them to create `X_train_lasso` and `X_test_lasso`. Show how many non-zero columns are present.\n",
    "\n",
    "    copy_X=True\n",
    "    normalize=True # Normalizes data using StandardScaler()\n",
    "    random_state=42"
   ]
  },
  {
   "cell_type": "markdown",
   "metadata": {
    "colab_type": "text",
    "id": "x2ZOelRg-RQ3"
   },
   "source": [
    "## Answer 1.2"
   ]
  },
  {
   "cell_type": "code",
   "execution_count": 225,
   "metadata": {},
   "outputs": [
    {
     "name": "stdout",
     "output_type": "stream",
     "text": [
      "The best value of alpha is 0.046630167344161\n",
      "\n"
     ]
    }
   ],
   "source": [
    "from sklearn.linear_model import LassoCV\n",
    "from sklearn.linear_model import Lasso\n",
    "from sklearn.model_selection import KFold\n",
    "from sklearn.metrics import r2_score\n",
    "\n",
    "n_folds = 5\n",
    "k_fold = KFold(n_folds)\n",
    "\n",
    "alphas = 10**np.linspace(1,-2,100)*0.5\n",
    "\n",
    "lasso_cv = LassoCV(alphas=alphas, cv=k_fold, max_iter=100000, copy_X=True, normalize=True, random_state=42)\n",
    "lasso_cv.fit(X_train, y_train)\n",
    "print(\"The best value of alpha is {}\".format(lasso_cv.alpha_))\n",
    "\n",
    "\n"
   ]
  },
  {
   "cell_type": "code",
   "execution_count": 226,
   "metadata": {},
   "outputs": [
    {
     "name": "stdout",
     "output_type": "stream",
     "text": [
      "The R2 score associated with the best alpha (for training) is 0.8705765609333548\n",
      "The R2 score associated with the best alpha (for testing) is 0.8427843605806434\n"
     ]
    }
   ],
   "source": [
    "lasso = Lasso(alpha=lasso_cv.alpha_, max_iter=100000, copy_X=True, normalize=True, random_state=42)\n",
    "lasso.fit(X_train, y_train)\n",
    "pred_train_lasso = lasso.predict(X_train)\n",
    "print(\"The R2 score associated with the best alpha (for training) is {}\".format(r2_score(y_train, pred_train_lasso)))\n",
    "\n",
    "# Test\n",
    "pred_test_lasso = lasso.predict(X_test)\n",
    "print(\"The R2 score associated with the best alpha (for testing) is {}\".format(r2_score(y_test, pred_test_lasso)))"
   ]
  },
  {
   "cell_type": "code",
   "execution_count": null,
   "metadata": {},
   "outputs": [],
   "source": [
    "pd.to_csv('Data/SEND_y')"
   ]
  },
  {
   "cell_type": "markdown",
   "metadata": {},
   "source": []
  },
  {
   "cell_type": "code",
   "execution_count": 227,
   "metadata": {},
   "outputs": [
    {
     "name": "stdout",
     "output_type": "stream",
     "text": [
      "Adult Mortality -0.01679002342698428\n",
      "Total expenditure 0.19417757218620163\n",
      " HIV/AIDS -0.7238646585370818\n",
      "Income composition of resources 34.25920718378277\n",
      "Status_Developed 0.15496405364538163\n",
      "Status_Developing -1.5800679520220513e-15\n"
     ]
    }
   ],
   "source": [
    "X_train_lasso = X_train.iloc[:,lasso.coef_!=0]\n",
    "for i,x in enumerate(list(X_train)):\n",
    "    if lasso.coef_[i] != 0:\n",
    "        print(x,lasso.coef_[i])"
   ]
  },
  {
   "cell_type": "markdown",
   "metadata": {
    "colab_type": "text",
    "id": "yZgK-IsT29fa"
   },
   "source": [
    "## Question 1.3 (6 points) \n",
    "Run linear regression using Ridge and determine the value of $\\alpha$ that results in best test set performance. Consider `alphas=10**np.linspace(1,-2,100)*0.5`. Display the best value of $\\alpha$ as well as the corresponsing $R^2$ score on test set. Use the following parameters in Ridge model.\n",
    "\n",
    "    copy_X=True\n",
    "    normalize=True # Normalizes data using StandardScaler()\n",
    "    random_state=42"
   ]
  },
  {
   "cell_type": "markdown",
   "metadata": {
    "colab_type": "text",
    "id": "syhZfjiI-PB3"
   },
   "source": [
    "## Answer 1.3"
   ]
  },
  {
   "cell_type": "code",
   "execution_count": 228,
   "metadata": {},
   "outputs": [
    {
     "name": "stdout",
     "output_type": "stream",
     "text": [
      "The best value of alpha is 0.03527401155359323\n"
     ]
    }
   ],
   "source": [
    "from sklearn.linear_model import RidgeCV\n",
    "from sklearn.linear_model import Ridge\n",
    "from sklearn.model_selection import KFold\n",
    "from sklearn.metrics import r2_score\n",
    "\n",
    "n_folds = 5\n",
    "k_fold = KFold(n_folds)\n",
    "\n",
    "alphas = 10**np.linspace(1,-2,100)*0.5\n",
    "\n",
    "ridge_cv = RidgeCV(alphas=alphas, cv=k_fold, normalize=True)\n",
    "ridge_cv.fit(X_train, y_train)\n",
    "print(\"The best value of alpha is {}\".format(ridge_cv.alpha_))"
   ]
  },
  {
   "cell_type": "markdown",
   "metadata": {},
   "source": [
    "# LOOK BACK"
   ]
  },
  {
   "cell_type": "code",
   "execution_count": 229,
   "metadata": {},
   "outputs": [
    {
     "name": "stdout",
     "output_type": "stream",
     "text": [
      "The R2 score associated with the best alpha (for training) is 0.8819728654936634\n",
      "The R2 score associated with the best alpha (for testing) is 0.8280328164651206\n"
     ]
    }
   ],
   "source": [
    "from sklearn.linear_model import LassoCV\n",
    "from sklearn.linear_model import Lasso\n",
    "\n",
    "ridge = Ridge(alpha=ridge_cv.alpha_, max_iter=100000, copy_X=True, normalize=True, random_state=42)\n",
    "ridge.fit(X_train, y_train)\n",
    "pred_train_ridge = ridge.predict(X_train)\n",
    "print(\"The R2 score associated with the best alpha (for training) is {}\".format(r2_score(y_train, pred_train_ridge)))\n",
    "\n",
    "# Test\n",
    "pred_test_ridge = ridge.predict(X_test)\n",
    "print(\"The R2 score associated with the best alpha (for testing) is {}\".format(r2_score(y_test, pred_test_ridge)))\n"
   ]
  },
  {
   "cell_type": "markdown",
   "metadata": {
    "colab_type": "text",
    "id": "Y-6cOe7V7DCz"
   },
   "source": [
    "## Question 1.4  (8 points) \n",
    "Run [ElasticNet](https://scikit-learn.org/stable/modules/generated/sklearn.linear_model.ElasticNet.html) [(Video Reference)](https://youtu.be/1dKRdX9bfIo) on the `X_train_lasso` dataset by using all possible values from the below mentioned parameter set:\n",
    "\n",
    "    l1_ratios = np.arange(0, 1.01, 0.01)  # 101 elements\n",
    "    alphas = 10**np.linspace(1, -2, 100)*0.5 # 100 elements\n",
    "    normalize = True\n",
    "    random_state = 42\n",
    "\n",
    "\n",
    "Store the $R^2$ score obtained from `X_test_lasso` set for each combination in an array with 101 rows and 100 columns. e.g.\n",
    "\n",
    "    arr[i][j] = curr_r2_score # obtained using l1_ratios[i] and alphas[j]\n",
    "\n",
    "where `i` is the `ith` element from `l1_ratio` and `j` is the `jth` element from `alphas`. Print the best $R^2$ score obtained using test set and its corresponding `alpha` and `l1 ratio`."
   ]
  },
  {
   "cell_type": "code",
   "execution_count": 230,
   "metadata": {
    "colab": {},
    "colab_type": "code",
    "id": "ZZiKAbk4jGXu"
   },
   "outputs": [],
   "source": [
    " arr = np.zeros((101, 100)) # Create 101x100 array"
   ]
  },
  {
   "cell_type": "markdown",
   "metadata": {
    "colab_type": "text",
    "id": "GFwZrCRViynq"
   },
   "source": [
    "Note that by varying the `l1_ratio`, you are controlling the ratio of Lasso and Ridge regularization that is present in the model. When `l1_ratio = 1`, it means that the model uses Lasso regularization only whereas when `l1_ratio = 0`, it means that the model uses Ridge regularization only. You can find the formula for the loss function [here](https://scikit-learn.org/stable/modules/generated/sklearn.linear_model.ElasticNet.html)."
   ]
  },
  {
   "cell_type": "markdown",
   "metadata": {
    "colab_type": "text",
    "id": "r5ksUkeL-MbL"
   },
   "source": [
    "## Answer 1.4"
   ]
  },
  {
   "cell_type": "code",
   "execution_count": 231,
   "metadata": {},
   "outputs": [
    {
     "data": {
      "text/plain": [
       "{'alpha': 0.005, 'l1_ratio': 1.0, 'r2score': 0.8551357959535695}"
      ]
     },
     "execution_count": 231,
     "metadata": {},
     "output_type": "execute_result"
    }
   ],
   "source": [
    "from sklearn.linear_model import ElasticNet\n",
    "from sklearn.model_selection import GridSearchCV\n",
    "from sklearn.model_selection import KFold\n",
    "from sklearn.metrics import r2_score\n",
    "\n",
    "'''\n",
    "elasticNet = ElasticNet(random_state=42, max_iter=100000, normalize=True)\n",
    "\n",
    "tuned_parameters = [{'alpha': alphas}, {'l1_ratio': l1_ratios}]\n",
    "n_folds = 5\n",
    "k_fold = KFold(n_folds, shuffle=True, random_state=42)\n",
    "\n",
    "elasticNet_regressor = GridSearchCV(elasticNet, tuned_parameters, cv=k_fold, refit=False, scoring = 'r2')\n",
    "elasticNet_regressor.fit(X_train, y_train)\n",
    "\n",
    "print(elasticNet_regressor.best_params_)\n",
    "'''\n",
    "\n",
    "alphas = 10**np.linspace(1,-2,100)*0.5 # 100 elements\n",
    "l1_ratios = np.arange(0, 1.01, 0.01)  # 101 elements\n",
    "\n",
    "arr = np.zeros((101, 100)) # Create 101x100 array\n",
    "bestparams = {'alpha': 0, 'l1_ratio': 0, 'r2score': 0}\n",
    "for j, alpha in enumerate(alphas):\n",
    "    for i, l1_ratio in enumerate(l1_ratios):\n",
    "        elasticNet = ElasticNet(alpha=alpha, l1_ratio=l1_ratio, random_state=42, max_iter=100000, normalize=True)\n",
    "        elasticNet.fit(X_train_lasso, y_train)\n",
    "        pred_train_elasticNet = elasticNet.predict(X_test_lasso)\n",
    "        arr[i, j] = r2_score(y_test, pred_train_elasticNet)\n",
    "        if arr[i, j] > bestparams['r2score']:\n",
    "            bestparams['alpha'] = alpha\n",
    "            bestparams['l1_ratio'] = l1_ratio\n",
    "            bestparams['r2score'] = arr[i, j]\n",
    "bestparams\n"
   ]
  },
  {
   "cell_type": "markdown",
   "metadata": {
    "colab_type": "text",
    "id": "D6eM7mR189cP"
   },
   "source": [
    "## Question 1.5 (3 points) \n",
    "Call `plot_heatmap()` using the 101x100 array (after flipping it horizontally using [np.fliplr()](https://numpy.org/doc/stable/reference/generated/numpy.fliplr.html)) from the previous question. What does this heatmap represent? Interpret the heatmap."
   ]
  },
  {
   "cell_type": "code",
   "execution_count": 232,
   "metadata": {
    "colab": {},
    "colab_type": "code",
    "id": "2SVYnItgCCAR"
   },
   "outputs": [
    {
     "data": {
      "image/png": "[encoded data removed]",
      "text/plain": [
       "<Figure size 432x288 with 2 Axes>"
      ]
     },
     "metadata": {
      "needs_background": "light"
     },
     "output_type": "display_data"
    }
   ],
   "source": [
    "def rescale(val, in_min, in_max, out_min, out_max):\n",
    "    return out_min + (val - in_min) * ((out_max - out_min) / (in_max - in_min))\n",
    "\n",
    "def format_y(value, tick_number):\n",
    "    return f'{value/100.:0.2f}'\n",
    "\n",
    "def format_x(value, tick_number):\n",
    "    return f'{rescale(value, 0., 100., 0.05, 5.):0.2f}'\n",
    "\n",
    "def plot_heatmap(arr):\n",
    "    ax = sns.heatmap(arr)\n",
    "    ax.set_ylabel(\"L1 Ratio\")\n",
    "    ax.set_xlabel(\"alpha\")\n",
    "    ax.invert_yaxis()\n",
    "    ax.xaxis.set_major_formatter(plt.FuncFormatter(format_x))\n",
    "    ax.yaxis.set_major_formatter(plt.FuncFormatter(format_y))\n",
    "    \n",
    "plot_heatmap(np.fliplr(arr))"
   ]
  },
  {
   "cell_type": "markdown",
   "metadata": {
    "colab_type": "text",
    "id": "q5QVYStf9zuA"
   },
   "source": [
    "## Answer 1.5"
   ]
  },
  {
   "cell_type": "markdown",
   "metadata": {},
   "source": [
    "The heat map is showing us the impact of varying the L1 Ratio and Alpha on the RSquared measurement. The map indicates that as the alpha term in minimized, the RSquared term increases, therby indicating a better model. The same logic applies for the L1 Ratio. However, perhaps a better measurement would have been Adjusted RSquared as that takes into account having multiple features."
   ]
  },
  {
   "cell_type": "markdown",
   "metadata": {},
   "source": []
  },
  {
   "cell_type": "markdown",
   "metadata": {
    "colab_type": "text",
    "id": "fXL1_aVfCktf"
   },
   "source": [
    "# Question 2 (5 points)\n",
    "Suppose you learn a ridge regression based on some of the independent variables available to you, and including a few interaction terms as well. Your result is disappointing, and you believe that the model is suffering from either too much bias or too much variance. Describe briefly how you will test which alternative is more likely to be true. (there is no extra data that you can use, so “get more data” is not an option)."
   ]
  },
  {
   "cell_type": "markdown",
   "metadata": {},
   "source": [
    "By varying the ridge regression penalty you could infer whether your model is suffering from too much bias or variance. If the model was suffering from too much bais, increasing the penalty term should lower this bias as you are increasing the cost of having too many feautres present in the model (overfitting). If there was little improvement in the model by increasing the regression penalty, you could infer that your model was not suffering from too much bias."
   ]
  },
  {
   "cell_type": "markdown",
   "metadata": {},
   "source": [
    "## Answer 2"
   ]
  },
  {
   "cell_type": "markdown",
   "metadata": {},
   "source": [
    "# Question 3 Bias-Variance (20 pts): \n",
    "\n",
    "We want to build a model that can predict y for unknown inputs x.(15 pts)\n",
    "\n",
    "(a) (5 pts) Fit a linear model to the training data, and report mean squared error on the test data. Plot the train and test points on the same plot, clearly denoting the training and testing points. On the same figure, plot the predictions of the linear model using x_all. All the plots must be in the same figure and be clearly labeled.\n",
    "\n",
    "\n",
    "(b) (10 pts) Fit polynomial models of degrees 2, 3, 4 and 12 to the training data, Report mean squared error (on both train and test sets) for all the models. Plot the data (train and test points) as before.  On the same figure, plot the predictions of the polynomial models using x_all. All the plots must be in the same figure and be clearly labeled.\n",
    "\n",
    "\n",
    "(c) (5 pts) Which model performed the best? Explain.\n"
   ]
  },
  {
   "cell_type": "markdown",
   "metadata": {},
   "source": [
    "* Use the below code to load the data from the file 'ps01.data'. It is organized as a dictionary, of train and test data."
   ]
  },
  {
   "cell_type": "code",
   "execution_count": 233,
   "metadata": {},
   "outputs": [],
   "source": [
    "from sklearn import linear_model as lm\n",
    "from sklearn.metrics import mean_squared_error,mean_absolute_error\n",
    "import matplotlib.pyplot as plt\n",
    "import numpy as np\n",
    "%matplotlib inline\n",
    "\n",
    "x_all = np.linspace(-2,5,101).reshape(-1,1)\n",
    "all_files = np.load(\"q3_data.npz\")\n",
    "x_train, y_train, x_test, y_test = all_files['arr_0'], all_files['arr_1'], all_files['arr_2'], all_files['arr_3']"
   ]
  },
  {
   "cell_type": "markdown",
   "metadata": {},
   "source": [
    "### Answer"
   ]
  },
  {
   "cell_type": "markdown",
   "metadata": {},
   "source": [
    "#### (a)"
   ]
  },
  {
   "cell_type": "code",
   "execution_count": 234,
   "metadata": {},
   "outputs": [
    {
     "name": "stdout",
     "output_type": "stream",
     "text": [
      "Mean Squared Error (Linear Regression):  4.739110717634691\n"
     ]
    },
    {
     "data": {
      "image/png": "[encoded data removed]",
      "text/plain": [
       "<Figure size 432x288 with 1 Axes>"
      ]
     },
     "metadata": {
      "needs_background": "light"
     },
     "output_type": "display_data"
    }
   ],
   "source": [
    "from sklearn.metrics import mean_squared_error\n",
    "\n",
    "reg = LinearRegression().fit(x_train, y_train)\n",
    "pred_train_reg = reg.predict(x_all)\n",
    "print('Mean Squared Error (Linear Regression): ', mean_squared_error(y_test, reg.predict(x_test)))\n",
    "\n",
    "\n",
    "fig, ax = plt.subplots()\n",
    "\n",
    "ax.scatter(x_train, y_train, c='blue', label='Training Points')\n",
    "ax.scatter(x_test, y_test, c='red', label='Testing Points')\n",
    "ax.scatter(x_all, pred_train_reg, c='green', label='Predicted Points (All)')\n",
    "ax.legend()\n",
    "\n",
    "plt.show()"
   ]
  },
  {
   "cell_type": "markdown",
   "metadata": {},
   "source": [
    "### (b)"
   ]
  },
  {
   "cell_type": "code",
   "execution_count": 235,
   "metadata": {},
   "outputs": [
    {
     "name": "stdout",
     "output_type": "stream",
     "text": [
      "Mean Squared Error (Linear Regression):  3.118688012803552\n",
      "Mean Squared Error (Linear Regression):  1.6698703639509367\n",
      "Mean Squared Error (Linear Regression):  0.2793974390234892\n",
      "Mean Squared Error (Linear Regression):  0.40228761937651486\n"
     ]
    },
    {
     "data": {
      "image/png": "[encoded data removed]",
      "text/plain": [
       "<Figure size 432x288 with 1 Axes>"
      ]
     },
     "metadata": {
      "needs_background": "light"
     },
     "output_type": "display_data"
    }
   ],
   "source": [
    "from sklearn.preprocessing import PolynomialFeatures \n",
    "\n",
    "# Degree == 2\n",
    "poly2 = PolynomialFeatures(degree = 2) \n",
    "X_poly2 = poly2.fit_transform(x_train) \n",
    "poly2.fit(X_poly2, y_train)\n",
    "\n",
    "lin2 = LinearRegression() \n",
    "lin2.fit(X_poly2, y_train)\n",
    "\n",
    "print('Mean Squared Error (Linear Regression): ', mean_squared_error(y_test, lin2.predict(poly2.fit_transform(x_test))))\n",
    "\n",
    "# Degree == 3\n",
    "poly3 = PolynomialFeatures(degree = 3) \n",
    "X_poly3 = poly3.fit_transform(x_train) \n",
    "poly3.fit(X_poly3, y_train)\n",
    "\n",
    "lin3 = LinearRegression() \n",
    "lin3.fit(X_poly3, y_train)\n",
    "\n",
    "print('Mean Squared Error (Linear Regression): ', mean_squared_error(y_test, lin3.predict(poly3.fit_transform(x_test))))\n",
    "\n",
    "\n",
    "# Degree == 4\n",
    "poly4 = PolynomialFeatures(degree = 4) \n",
    "X_poly4 = poly4.fit_transform(x_train) \n",
    "poly4.fit(X_poly4, y_train)\n",
    "\n",
    "lin4 = LinearRegression() \n",
    "lin4.fit(X_poly4, y_train)\n",
    "\n",
    "print('Mean Squared Error (Linear Regression): ', mean_squared_error(y_test, lin4.predict(poly4.fit_transform(x_test))))\n",
    "\n",
    "# Degree == 12\n",
    "poly12 = PolynomialFeatures(degree = 12) \n",
    "X_poly12 = poly12.fit_transform(x_train) \n",
    "poly12.fit(X_poly12, y_train)\n",
    "\n",
    "lin12 = LinearRegression() \n",
    "lin12.fit(X_poly12, y_train)\n",
    "\n",
    "print('Mean Squared Error (Linear Regression): ', mean_squared_error(y_test, lin12.predict(poly12.fit_transform(x_test))))\n",
    "\n",
    "\n",
    "fig, ax = plt.subplots()\n",
    "\n",
    "ax.scatter(x_train, y_train, c='blue', label='Training Points')\n",
    "ax.scatter(x_test, y_test, c='red', label='Testing Points')\n",
    "ax.scatter(x_all, lin2.predict(poly2.fit_transform(x_all)), c='green', label='Predicted Points (Degree = 2)', s=10)\n",
    "ax.scatter(x_all, lin3.predict(poly3.fit_transform(x_all)), c='orange', label='Predicted Points (Degree = 3)', s=10)\n",
    "ax.scatter(x_all, lin4.predict(poly4.fit_transform(x_all)), c='purple', label='Predicted Points (Degree = 4)', s=10)\n",
    "ax.scatter(x_all, lin12.predict(poly12.fit_transform(x_all)), c='yellow', label='Predicted Points (Degree = 12)', s=10)\n",
    "ax.legend()\n",
    "\n",
    "plt.show()"
   ]
  },
  {
   "cell_type": "markdown",
   "metadata": {},
   "source": [
    "### (c)"
   ]
  },
  {
   "cell_type": "markdown",
   "metadata": {},
   "source": []
  },
  {
   "cell_type": "markdown",
   "metadata": {},
   "source": [
    "# Question 4 - Stochastic Gradient Descent (25 pts)"
   ]
  },
  {
   "cell_type": "markdown",
   "metadata": {},
   "source": [
    "1. (5pts) Using stochastic gradient descent, derive the coefficent updates for all 4 coefficients of the model: $$ y = w_0 + w_1x_1 + w_2x_1x_2 + w_3e^{-x_1} $$ Hint: start from the cost function (Assume sum of squared error). If you write the math by hand, include the image in your notebook and upload the image in the submission.\n",
    "\n",
    "\n",
    "2. (20pts) Write Python code for an SGD solution to the non-linear model$$ y = w_0 + w_1x_1 + w_2x_1x_2 + w_3e^{-x_1} $$  Try to format similarly to scikit-learn's models. The template of the class is given. The init function of the class takes as input the learning_rate, regularization_constant and number of epochs. The fit method must take as input X,y. The _predict_ method takes an X value (optionally, an array of values). Use your new gradient descent regression to predict the data given in 'samples.csv', for 15 epochs, using learning rates: [0, .0001, .001, .01, 0.1, 1, 10, 100] and regularization (ridge regression) constants: [0,10,100] . Plot MSE and the $w$ parameters as a function of epoch (for 15 epochs) for the best 2 combinations of learning_rate and regularization for SGD. (2pts) Report the MSE at the end of 15 epochs for the two best combinations.\n"
   ]
  },
  {
   "cell_type": "code",
   "execution_count": 236,
   "metadata": {},
   "outputs": [],
   "source": [
    "%matplotlib inline\n",
    "import random\n",
    "import numpy as np\n",
    "import matplotlib.pyplot as plt\n",
    "import pandas as pd\n",
    "\n",
    "class Regression:\n",
    "    \n",
    "    def __init__(self, learning_rate, regularization, n_epoch, initalCoefficentGuess):\n",
    "        self.learning_rate = learning_rate\n",
    "        self.n_epoch = n_epoch\n",
    "        self.regularization = regularization\n",
    "        \n",
    "        # Initialize Coefficients\n",
    "        self.coef = initalCoefficentGuess\n",
    "        \n",
    "    def sgd(self, gradient):\n",
    "        self.coef = ([self.coef[0] - (gradient[0]*self.learning_rate),\n",
    "                      self.coef[1] - (gradient[1]*self.learning_rate),\n",
    "                      self.coef[2] - (gradient[2]*self.learning_rate),\n",
    "                      self.coef[3] - (gradient[3]*self.learning_rate)]\n",
    "                    )\n",
    "    \n",
    "        \n",
    "    def fit(self, X, y, update_rule='sgd', plot=False):\n",
    "        mse = []\n",
    "        coefs = []\n",
    "        self.cache = np.zeros(self.coef.shape)\n",
    "        self.v = np.zeros(self.coef.shape)\n",
    "        self.decay_rate = 0.9\n",
    "        X = self.get_features(X)\n",
    "        for epoch in range(self.n_epoch):\n",
    "            for i in range(X.shape[0]):\n",
    "                # Compute error\n",
    "                   #please fill this\n",
    "                error = (np.dot(np.transpose(self.coef), X[i]) - y[i])**2\n",
    "                # Compute gradients\n",
    "                #gradient = -2*np.dot(error,X[i].T)\n",
    "                gradient = [\n",
    "                    2 * error * 1,\n",
    "                    2 * error * X[i][1] + 2 * self.regularization * self.coef[1],\n",
    "                    2 * error * X[i][2] + 2 * self.regularization * self.coef[2],\n",
    "                    2 * error * X[i][3] + 2 * self.regularization * self.coef[3]\n",
    "                ]\n",
    "                # Update weights\n",
    "                self.sgd(gradient)\n",
    "\n",
    "            coefs.append(self.coef)\n",
    "            residuals = y - self.linearPredict(X)         \n",
    "            mse.append(np.mean(residuals**2))\n",
    "        self.lowest_mse = mse[-1]\n",
    "        if plot == True:\n",
    "            \n",
    "            fig, axs = plt.subplots(2, 1)\n",
    "            fig.suptitle(str('Learning Rate: ' + str(self.learning_rate) + \n",
    "                             ', Regularization: ' + str(self.regularization) +\n",
    "                             ', Lowest MSE: ' + str(self.lowest_mse)\n",
    "                            ))\n",
    "            axs[0].plot(range(self.n_epoch),mse)\n",
    "            axs[0].set_xlabel('epoch')\n",
    "            axs[0].set_ylabel('MSE')\n",
    "\n",
    "            coefs = np.array(coefs)\n",
    "            axs[1].plot(range(self.n_epoch),coefs[:,0],label='w0')\n",
    "            axs[1].plot(range(self.n_epoch),coefs[:,1],label='w1')\n",
    "            axs[1].plot(range(self.n_epoch),coefs[:,2],label='w2')\n",
    "            axs[1].plot(range(self.n_epoch),coefs[:,3],label='w3')\n",
    "            axs[1].legend()\n",
    "            axs[1].set_xlabel('epoch')\n",
    "            axs[1].set_ylabel('parameter value')\n",
    "        if plot == False:\n",
    "            return self.lowest_mse, self.learning_rate, self.regularization\n",
    "\n",
    "    def get_features(self, X):\n",
    "        '''\n",
    "        this output of this function can be used to compute the gradient in `fit`\n",
    "        '''\n",
    "        x = np.zeros((X.shape[0], 4))\n",
    "        x[:,0] = 1\n",
    "        x[:,1] = X[:,0]\n",
    "        x[:,2] = X[:,0]*X[:,1]\n",
    "        x[:,3] = np.exp(-X[:,0])\n",
    "        \n",
    "        return x\n",
    "        \n",
    "    def linearPredict(self, X):\n",
    "        #compute dot product of self.coef and X\n",
    "        return np.dot(X,np.transpose(self.coef))\n",
    "        \n",
    "        \n",
    "        "
   ]
  },
  {
   "cell_type": "code",
   "execution_count": 237,
   "metadata": {},
   "outputs": [],
   "source": [
    "data = pd.read_csv('q4_samples.csv')\n",
    "X = np.array([data['x1'].values, data['x2'].values]).T\n",
    "y = data['y'].values\n",
    "n_epochs = 15\n",
    "learning_rates = [0.0001, 0.001, 0.01, 0.1, 1, 10, 100]\n",
    "#learning_rates = [0.00001, 0.00005, 0.0001, 0.1, 1, 10, 100]\n",
    "regularization_rates = [0, 10, 100]"
   ]
  },
  {
   "cell_type": "markdown",
   "metadata": {},
   "source": [
    "## Answer "
   ]
  },
  {
   "cell_type": "markdown",
   "metadata": {},
   "source": [
    "### 1."
   ]
  },
  {
   "cell_type": "markdown",
   "metadata": {},
   "source": []
  },
  {
   "cell_type": "markdown",
   "metadata": {},
   "source": [
    "Let $\\hat{y}$:\n",
    "$$\\hat{y} = w_{0} + w_{1} * x_{1} + w_{2}*x_{1}*x_{2} + w_{3}*e^{-x_{1}}$$\n",
    "and the cost function be defined as the SSE:\n",
    "$$\\left( \\hat{y} - y \\right)^{2} \\Rightarrow \\left( \\left(w_{0} + w_{1} * x_{1} + w_{2}*x_{1}*x_{2} + w_{3}*e^{-x_{1}} \\right) - y\\right)^{2}$$\n",
    "\n",
    "To find the coefficient updates for each weight, we need to perform the following calculations:\n",
    "$$w_{0}^{\\tau+1} = w_{0}^{\\tau} - \\gamma \\frac{\\partial L}{\\partial w_{0}^{\\tau}}$$\n",
    "$$w_{1}^{\\tau+1} = w_{1}^{\\tau} - \\gamma \\frac{\\partial L}{\\partial w_{1}^{\\tau}}$$\n",
    "$$w_{2}^{\\tau+1} = w_{2}^{\\tau} - \\gamma \\frac{\\partial L}{\\partial w_{2}^{\\tau}}$$\n",
    "$$w_{3}^{\\tau+1} = w_{3}^{\\tau} - \\gamma \\frac{\\partial L}{\\partial w_{3}^{\\tau}}$$\n",
    "\n",
    "Therefore, the first step is to compute the partials for the cost functions with respect to every weight:\n",
    "\n",
    "$$\\frac{\\partial L}{\\partial w_{0}} = 2 * \\left( \\hat{y} - y \\right)$$\n",
    "\n",
    "$$\\frac{\\partial L}{\\partial w_{1}} = 2 *  \\left( \\left(w_{0} + w_{1} * x_{1} + w_{2}*x_{1}*x_{2} + w_{3}*e^{-x_{1}} \\right) - y\\right) * x_{1} $$\n",
    "\n",
    "$$\\frac{\\partial L}{\\partial w_{1}} = 2 *  \\left( \\left(w_{0} + w_{1} * x_{1} + w_{2}*x_{1}*x_{2} + w_{3}*e^{-x_{1}} \\right) - y\\right) * x_{1} * x_{2}$$\n",
    "\n",
    "$$\\frac{\\partial L}{\\partial w_{1}} = 2 *  \\left( \\left(w_{0} + w_{1} * x_{1} + w_{2}*x_{1}*x_{2} + w_{3}*e^{-x_{1}} \\right) - y\\right) * e^{-x_{1}}$$\n",
    "\n",
    "These equations simplify to:\n",
    "$$\\frac{\\partial L}{\\partial w_{0}} = 2 * \\left( \\hat{y} - y \\right)$$\n",
    "\n",
    "$$\\frac{\\partial L}{\\partial w_{1}} = 2 *  \\left( \\hat{y} - y \\right) * x_{1} $$\n",
    "\n",
    "$$\\frac{\\partial L}{\\partial w_{1}} = 2 * \\left( \\hat{y} - y \\right) * x_{1} * x_{2}$$\n",
    "\n",
    "$$\\frac{\\partial L}{\\partial w_{1}} = 2 *  \\left( \\hat{y} - y \\right) * e^{-x_{1}}$$\n",
    "\n",
    "Therefore, since the learning rates are given, the coefficient updates for each weight are:\n",
    "$$w_{0}^{\\tau+1} = w_{0}^{\\tau} - \\gamma 2 * \\left( \\hat{y} - y \\right)$$\n",
    "\n",
    "$$w_{1}^{\\tau+1} = w_{1}^{\\tau} - \\gamma 2 *  \\left( \\hat{y} - y \\right) * x_{1}$$\n",
    "\n",
    "$$w_{2}^{\\tau+1} = w_{2}^{\\tau} - \\gamma 2 * \\left( \\hat{y} - y \\right) * x_{1} * x_{2}$$\n",
    "\n",
    "$$w_{3}^{\\tau+1} = w_{3}^{\\tau} - \\gamma 2 *  \\left( \\hat{y} - y \\right) * e^{-x_{1}}$$"
   ]
  },
  {
   "cell_type": "code",
   "execution_count": 238,
   "metadata": {
    "collapsed": true
   },
   "outputs": [
    {
     "name": "stdout",
     "output_type": "stream",
     "text": [
      "{'Lowest MSE': [0.09457272856329436, 0.10180808764267156], 'Learning Rate': [0.0001, 0.0001], 'Regulatization Rate': [0, 10]}\n"
     ]
    },
    {
     "data": {
      "text/plain": [
       "'\\ntest = Regression(learning_rates[2], regularization_rates[0], n_epochs, initalCoefficentGuess)\\ntest.fit(X, y, plot=True)\\n\\ntest = Regression(learning_rates[2], regularization_rates[0], n_epochs, initalCoefficentGuess)\\ntest.fit(X, y, plot=True)\\n\\ntest = Regression(learning_rates[2], regularization_rates[0], n_epochs, initalCoefficentGuess)\\ntest.fit(X, y, plot=True)\\n'"
      ]
     },
     "execution_count": 238,
     "metadata": {},
     "output_type": "execute_result"
    },
    {
     "data": {
      "image/png": "[encoded data removed]",
      "text/plain": [
       "<Figure size 432x288 with 2 Axes>"
      ]
     },
     "metadata": {
      "needs_background": "light"
     },
     "output_type": "display_data"
    },
    {
     "data": {
      "image/png": "[encoded data removed]",
      "text/plain": [
       "<Figure size 432x288 with 2 Axes>"
      ]
     },
     "metadata": {
      "needs_background": "light"
     },
     "output_type": "display_data"
    }
   ],
   "source": [
    "import math\n",
    "\n",
    "initalCoefficentGuess = np.array([1, 1, 1, 1])\n",
    "\n",
    "best_model_parameters = {'Lowest MSE': [float('inf'), float('inf')],\n",
    "                        'Learning Rate': [0, 0],\n",
    "                        'Regulatization Rate': [0, 0]\n",
    "                        }\n",
    "def checkForLess(list1, number):\n",
    "    for index, value in enumerate(list1):  \n",
    "        if number < value:  \n",
    "            return True, index\n",
    "            break\n",
    "    return False, 0\n",
    "for learning_rate in learning_rates:\n",
    "    for regularization_rate in regularization_rates:\n",
    "        test = Regression(learning_rate, regularization_rate, n_epochs, initalCoefficentGuess)\n",
    "        results = test.fit(X, y, plot=False)\n",
    "        \n",
    "        if not math.isnan(results[0]):\n",
    "            better_model, index = checkForLess(best_model_parameters['Lowest MSE'],results[0])\n",
    "            if better_model:\n",
    "                best_model_parameters['Lowest MSE'][index] = results[0]\n",
    "                best_model_parameters['Learning Rate'][index] = results[1]\n",
    "                best_model_parameters['Regulatization Rate'][index] = results[2]\n",
    "\n",
    "print(best_model_parameters)\n",
    "\n",
    "for i in range(2):\n",
    "    test = Regression(best_model_parameters['Learning Rate'][i], \n",
    "                      best_model_parameters['Regulatization Rate'][i], \n",
    "                      n_epochs, \n",
    "                      initalCoefficentGuess\n",
    "                     )\n",
    "    results = test.fit(X, y, plot=True)\n",
    "'''\n",
    "test = Regression(learning_rates[2], regularization_rates[0], n_epochs, initalCoefficentGuess)\n",
    "test.fit(X, y, plot=True)\n",
    "\n",
    "test = Regression(learning_rates[2], regularization_rates[0], n_epochs, initalCoefficentGuess)\n",
    "test.fit(X, y, plot=True)\n",
    "\n",
    "test = Regression(learning_rates[2], regularization_rates[0], n_epochs, initalCoefficentGuess)\n",
    "test.fit(X, y, plot=True)\n",
    "'''\n",
    "    \n",
    "    "
   ]
  },
  {
   "cell_type": "code",
   "execution_count": null,
   "metadata": {},
   "outputs": [],
   "source": []
  }
 ],
 "metadata": {
  "kernelspec": {
   "display_name": "Python 3",
   "language": "python",
   "name": "python3"
  },
  "language_info": {
   "codemirror_mode": {
    "name": "ipython",
    "version": 3
   },
   "file_extension": ".py",
   "mimetype": "text/x-python",
   "name": "python",
   "nbconvert_exporter": "python",
   "pygments_lexer": "ipython3",
   "version": "3.8.3"
  }
 },
 "nbformat": 4,
 "nbformat_minor": 1
}
