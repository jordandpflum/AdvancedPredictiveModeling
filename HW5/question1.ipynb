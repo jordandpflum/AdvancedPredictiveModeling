{
 "cells": [
  {
   "cell_type": "code",
   "execution_count": 2,
   "metadata": {},
   "outputs": [],
   "source": [
    "# State Inputs\n",
    "prob_Bark_1 = .05\n",
    "prob_Rain_1 = .01\n",
    "prob_Bark_0 = 1 - prob_Bark_1\n",
    "prob_Rain_0 = 1 - prob_Rain_1\n",
    "\n",
    "prob_Scared_1_GIVEN_Bark_0_AND_Rain_0 = .001\n",
    "prob_Scared_1_GIVEN_Bark_0_AND_Rain_1 = .1\n",
    "prob_Scared_1_GIVEN_Bark_1_AND_Rain_0 = .8\n",
    "prob_Scared_1_GIVEN_Bark_1_AND_Rain_1 = .9\n",
    "prob_Scared_0_GIVEN_Bark_0_AND_Rain_0 = 1 - prob_Scared_1_GIVEN_Bark_0_AND_Rain_0\n",
    "prob_Scared_0_GIVEN_Bark_0_AND_Rain_1 = 1 - prob_Scared_1_GIVEN_Bark_0_AND_Rain_1\n",
    "prob_Scared_0_GIVEN_Bark_1_AND_Rain_0 = 1 - prob_Scared_1_GIVEN_Bark_1_AND_Rain_0\n",
    "prob_Scared_0_GIVEN_Bark_1_AND_Rain_1 = 1 - prob_Scared_1_GIVEN_Bark_1_AND_Rain_1\n",
    "\n",
    "prob_Hides_1_GIVEN_Scared_0 = .05\n",
    "prob_Hides_1_GIVEN_Scared_1 = .95\n",
    "prob_Hides_0_GIVEN_Scared_0 = 1 - prob_Hides_1_GIVEN_Scared_0\n",
    "prob_Hides_0_GIVEN_Scared_1 = 1 - prob_Hides_1_GIVEN_Scared_1"
   ]
  },
  {
   "cell_type": "markdown",
   "metadata": {},
   "source": [
    "We watnt to solve P(H=1):"
   ]
  },
  {
   "cell_type": "code",
   "execution_count": 3,
   "metadata": {},
   "outputs": [
    {
     "name": "stdout",
     "output_type": "stream",
     "text": [
      "Probability that Cat Hides = 1 is 8.774645%\n"
     ]
    }
   ],
   "source": [
    "x = (\n",
    "prob_Hides_1_GIVEN_Scared_1 * (prob_Scared_1_GIVEN_Bark_0_AND_Rain_0*(prob_Bark_0*prob_Rain_0)) + \n",
    "prob_Hides_1_GIVEN_Scared_1 * (prob_Scared_1_GIVEN_Bark_0_AND_Rain_1*(prob_Bark_0*prob_Rain_1)) + \n",
    "prob_Hides_1_GIVEN_Scared_1 * (prob_Scared_1_GIVEN_Bark_1_AND_Rain_0*(prob_Bark_1*prob_Rain_0)) + \n",
    "prob_Hides_1_GIVEN_Scared_1 * (prob_Scared_1_GIVEN_Bark_1_AND_Rain_1*(prob_Bark_1*prob_Rain_1))\n",
    ")\n",
    "y = (\n",
    "prob_Hides_1_GIVEN_Scared_0 * (prob_Scared_0_GIVEN_Bark_0_AND_Rain_0*(prob_Bark_0*prob_Rain_0)) + \n",
    "prob_Hides_1_GIVEN_Scared_0 * (prob_Scared_0_GIVEN_Bark_0_AND_Rain_1*(prob_Bark_0*prob_Rain_1)) + \n",
    "prob_Hides_1_GIVEN_Scared_0 * (prob_Scared_0_GIVEN_Bark_1_AND_Rain_0*(prob_Bark_1*prob_Rain_0)) + \n",
    "prob_Hides_1_GIVEN_Scared_0 * (prob_Scared_0_GIVEN_Bark_1_AND_Rain_1*(prob_Bark_1*prob_Rain_1))\n",
    ")\n",
    "print(f\"Probability that Cat Hides = 1 is {(x+y)*100}%\")"
   ]
  },
  {
   "cell_type": "markdown",
   "metadata": {},
   "source": [
    "We want to solve:\n",
    "$P(R=1 \\vert S=1) = \\frac{P(S=1 \\vert R=1)*P(R=1)}{P(S=1)}$\n",
    "\n",
    "Therefore,\n",
    "* $P(S=1 \\vert R=1): [P(S=1 \\vert B=1, R=1)* P(B=1)] + [P(S=1 \\vert B=0, R=1)*P(B=0)]$\n",
    "* $P(R=1): P(R=1)$\n",
    "* $P(S=1): [P(S=1 \\vert B=0, R=0)* P(B=0) * P(R=0)] + [P(S=1 \\vert B=0, R=1)* P(B=0) * P(R=1)] + [P(S=1 \\vert B=1, R=0)* P(B=1) * P(R=0)] + [P(S=1 \\vert B=1, R=1)* P(B=1) * P(R=1)]$ "
   ]
  },
  {
   "cell_type": "code",
   "execution_count": 4,
   "metadata": {},
   "outputs": [
    {
     "name": "stdout",
     "output_type": "stream",
     "text": [
      "Probability that it rained given that the Cat got scared is 3.338062254861053%\n"
     ]
    }
   ],
   "source": [
    "prob_S_1_GIVEN_R_1 = prob_Scared_1_GIVEN_Bark_1_AND_Rain_1*prob_Bark_1 + prob_Scared_1_GIVEN_Bark_0_AND_Rain_1*prob_Bark_0\n",
    "prob_S_1 = prob_Scared_1_GIVEN_Bark_0_AND_Rain_0*(prob_Bark_0*prob_Rain_0)+prob_Scared_1_GIVEN_Bark_0_AND_Rain_1*(prob_Bark_0*prob_Rain_1)+prob_Scared_1_GIVEN_Bark_1_AND_Rain_0*(prob_Bark_1*prob_Rain_0)+prob_Scared_1_GIVEN_Bark_1_AND_Rain_1*(prob_Bark_1*prob_Rain_1)\n",
    "prob_R_1_GIVEN_S_1 = (prob_S_1_GIVEN_R_1*prob_Rain_1)/prob_S_1\n",
    "print(f\"Probability that it rained given that the Cat got scared is {(prob_R_1_GIVEN_S_1)*100}%\")"
   ]
  },
  {
   "cell_type": "markdown",
   "metadata": {},
   "source": [
    "We want to solve:\n",
    "$P(R=1 \\vert S=1 , B=1) = \\frac{P(S=1 , B=1 \\vert R=1)*P(R=1)}{P(S=1 , B=1)}$\n",
    "\n",
    "Therefore,\n",
    "* $P(S=1 , B=1 \\vert R=1): P(S=1 \\vert B=1, R=1)* P(B=1)$\n",
    "* $P(R=1): P(R=1)$\n",
    "* $P(S=1 , B=1): [P(S=1 \\vert B=1, R=1)* (P(B=1) * P(R=1))] + [P(S=1 \\vert B=1, R=0)* (P(B=1) * P(R=0))]$"
   ]
  },
  {
   "cell_type": "code",
   "execution_count": 5,
   "metadata": {},
   "outputs": [
    {
     "name": "stdout",
     "output_type": "stream",
     "text": [
      "Probability that it rained given that the Cat got scared AND dog barked is 1.1235955056179776%\n"
     ]
    }
   ],
   "source": [
    "numerator = (prob_Scared_1_GIVEN_Bark_1_AND_Rain_1*prob_Bark_1)*(prob_Rain_1)\n",
    "denominator = (prob_Scared_1_GIVEN_Bark_1_AND_Rain_1*(prob_Bark_1*prob_Rain_1))+(prob_Scared_1_GIVEN_Bark_1_AND_Rain_0*(prob_Bark_1*prob_Rain_0))\n",
    "print(f\"Probability that it rained given that the Cat got scared AND dog barked is {(numerator/denominator)*100}%\")"
   ]
  },
  {
   "cell_type": "code",
   "execution_count": null,
   "metadata": {},
   "outputs": [],
   "source": []
  }
 ],
 "metadata": {
  "kernelspec": {
   "display_name": "Python 3",
   "language": "python",
   "name": "python3"
  },
  "language_info": {
   "codemirror_mode": {
    "name": "ipython",
    "version": 3
   },
   "file_extension": ".py",
   "mimetype": "text/x-python",
   "name": "python",
   "nbconvert_exporter": "python",
   "pygments_lexer": "ipython3",
   "version": "3.8.3"
  }
 },
 "nbformat": 4,
 "nbformat_minor": 4
}
